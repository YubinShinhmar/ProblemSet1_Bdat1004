{
 "cells": [
  {
   "cell_type": "markdown",
   "id": "7322dd1e",
   "metadata": {},
   "source": [
    "# Question 6"
   ]
  },
  {
   "cell_type": "markdown",
   "id": "36346172",
   "metadata": {},
   "source": [
    "You can turn a word into pig-Latin using the following two rules(simplified):<br>\n",
    "• If the word starts with a consonant, move that letter to the end and append 'ay'. For example, 'happy' becomes 'appyhay' and 'pencil' becomes 'encilpay'.<br>\n",
    "• If the word starts with a vowel, simply append 'way' to the end of the word.<br>\n",
    "For example, 'enter' becomes 'enterway' and 'other' becomes 'otherway' . For our purposes, there are 5 vowels: a, e, i, o, u (so we count y as a consonant).<br>\n",
    "Write a function pig() that takes a word (i.e., a string) as input and returns its pig\u0002Latin form. Your function should still work if the input word contains upper case characters. Your output should always be lower case however.\n"
   ]
  },
  {
   "cell_type": "code",
   "execution_count": 7,
   "id": "74669b1e",
   "metadata": {},
   "outputs": [
    {
     "name": "stdout",
     "output_type": "stream",
     "text": [
      "appyhay\n",
      "enterway\n"
     ]
    }
   ],
   "source": [
    "def pig(input_word):\n",
    "    vowels = \"aeiou\"\n",
    "    input_word = input_word.lower()\n",
    "    if input_word[0] in vowels:\n",
    "        return input_word + \"way\"\n",
    "    else:\n",
    "        return input_word[1:] + word[0] + \"ay\"\n",
    "\n",
    "print(pig(\"happy\"))\n",
    "print(pig(\"Enter\"))\n"
   ]
  },
  {
   "cell_type": "markdown",
   "id": "1cb73e0f",
   "metadata": {},
   "source": [
    "# Question 7"
   ]
  },
  {
   "cell_type": "markdown",
   "id": "d1179621",
   "metadata": {},
   "source": [
    "File bloodtype1.txt records blood-types of patients (A, B, AB, O or OO) at a clinic. <br>\n",
    "Write a function bldcount() that reads the file with name name and reports (i.e., prints) how many patients there are in each bloodtype.<br>\n",
    "bldcount('bloodtype.txt')<br>\n",
    "There are 10 patients of blood type A. <br>\n",
    "There is one patient of blood type B. <br>\n",
    "There are 10 patients of blood type AB. <br>\n",
    "There are 12 patients of blood type O. <br>\n",
    "There are no patients of blood type OO.<br>"
   ]
  },
  {
   "cell_type": "code",
   "execution_count": 19,
   "id": "4a33ea2a",
   "metadata": {},
   "outputs": [
    {
     "name": "stdout",
     "output_type": "stream",
     "text": [
      "AB AB B O A A AB O AB A O O A A A O O O AB O A A A A A AB AB A AB O AB O A O O O AB O AB AB AB A A O \n",
      "\n"
     ]
    }
   ],
   "source": [
    "with open('bloodtype1.txt', 'r') as f:\n",
    "    contents = f.read()\n",
    "    print(contents)\n"
   ]
  },
  {
   "cell_type": "code",
   "execution_count": 27,
   "id": "fff3162d",
   "metadata": {},
   "outputs": [
    {
     "name": "stdout",
     "output_type": "stream",
     "text": [
      "There are 15 patients of blood type A.\n",
      "There is one patient of blood type B.\n",
      "There are 13 patients of blood type AB.\n",
      "There are 15 patients of blood type O.\n",
      "There are no patients of blood type OO.\n"
     ]
    }
   ],
   "source": [
    "def bldcount(name):\n",
    "    blood_types = {'A': 0, 'B': 0, 'AB': 0, 'O': 0, 'OO': 0}\n",
    "    with open(name, 'r') as file:\n",
    "        for line in file:\n",
    "            blood_type = line.strip()\n",
    "            if blood_type in blood_types:\n",
    "                blood_types[blood_type] += 1\n",
    "    for blood_type, count in blood_types.items():\n",
    "        if count == 0:\n",
    "            print(\"There are no patients of blood type\", blood_type + \".\")\n",
    "        elif count == 1:\n",
    "            print(\"There is one patient of blood type\", blood_type + \".\")\n",
    "        else:\n",
    "            print(\"There are\", count, \"patients of blood type\", blood_type + \".\")\n",
    "\n",
    "bldcount('bloodtype.txt')\n"
   ]
  },
  {
   "cell_type": "markdown",
   "id": "f7049af7",
   "metadata": {},
   "source": [
    "# Question 8\n"
   ]
  },
  {
   "cell_type": "markdown",
   "id": "36566139",
   "metadata": {},
   "source": [
    "Write a function curconv() that takes as input:<br>\n",
    "1. a currency represented using a string (e.g., 'JPY' for the Japanese Yen or 'EUR' for the Euro)<br>\n",
    "2. an amount and then converts and returns the amount in US dollars."
   ]
  },
  {
   "cell_type": "code",
   "execution_count": 28,
   "id": "d3932a26",
   "metadata": {},
   "outputs": [
    {
     "name": "stdout",
     "output_type": "stream",
     "text": [
      "122.96544\n",
      "1.241401\n"
     ]
    }
   ],
   "source": [
    "def curconv(currency, amount):\n",
    "    with open(\"currencies.txt\") as f:\n",
    "        for line in f:\n",
    "            line = line.strip().split()\n",
    "            if line[0] == currency:\n",
    "                return amount * float(line[1])\n",
    "\n",
    "print(curconv(\"EUR\", 100))\n",
    "print(curconv(\"JPY\", 100))\n"
   ]
  },
  {
   "cell_type": "markdown",
   "id": "253fecfb",
   "metadata": {},
   "source": [
    "# Question 9"
   ]
  },
  {
   "cell_type": "markdown",
   "id": "5d209e89",
   "metadata": {},
   "source": [
    "Each of the following will cause an exception (an error). Identify what type of \n",
    "exception each will cause.\n",
    "1. Trying to add incompatible variables, as in adding 6 + ‘a’\n",
    "2. Referring to the 12th item of a list that has only 10 items\n",
    "3. Using a value that is out ofrange for a function’s input, such as calling math.sqrt(-1.0)\n",
    "4. Using an undeclared variable, such as print(x)when x has not been defined\n",
    "5. Trying to open a file that does not exist, such as mistyping the file name or looking in the wrong directory.\n"
   ]
  },
  {
   "cell_type": "markdown",
   "id": "9a91b9b0",
   "metadata": {},
   "source": [
    "1. TypeError: unsupported operand type(s) for +: 'int' and 'str'\n",
    "2. IndexError: list index out of range\n",
    "3. ValueError: math domain error\n",
    "4. NameError: name 'x' is not defined\n",
    "5. FileNotFoundError: [Err no 2] No such file or directory: 'filename'"
   ]
  },
  {
   "cell_type": "markdown",
   "id": "546f4164",
   "metadata": {},
   "source": [
    "# Question 10"
   ]
  },
  {
   "cell_type": "markdown",
   "id": "9de2889c",
   "metadata": {},
   "source": [
    "Encryption is the process of hiding the meaning of a text by substituting letters in the message with other letters, according to some system. If the process is successful, no \n",
    "one but the intended recipient can understand the encrypted message. Cryptanalysis refers to attempts to undo the encryption, even if some details of the encryption are \n",
    "unknown (for example, if an encrypted message has been intercepted). The first step of cryptanalysis is often to build up a table of letter frequencies in the encrypted text. \n",
    "Assume that the string letters is already defined as 'abcdefghijklmnopqrstuvwxyz'.<br>\n",
    "Write a function called frequencies() that takes a string as its only parameter, and returns a list of integers, showing the \n",
    "number of times each character appears in the text. Your function may ignore any characters that are not in letters."
   ]
  },
  {
   "cell_type": "code",
   "execution_count": 30,
   "id": "e7c2f467",
   "metadata": {},
   "outputs": [
    {
     "name": "stdout",
     "output_type": "stream",
     "text": [
      "[1, 1, 1, 3, 5, 1, 1, 2, 1, 0, 1, 0, 1, 2, 4, 0, 1, 2, 0, 3, 1, 0, 1, 1, 0, 0]\n",
      "[1, 0, 0, 0, 1, 0, 0, 0, 0, 0, 0, 1, 0, 0, 0, 2, 0, 0, 0, 0, 0, 0, 0, 0, 0, 0]\n"
     ]
    }
   ],
   "source": [
    "def frequencies(text):\n",
    "    letters = 'abcdefghijklmnopqrstuvwxyz'\n",
    "    letter_counts = [0] * 26\n",
    "    for char in text:\n",
    "        char = char.lower()\n",
    "        if char in letters:\n",
    "            letter_counts[letters.index(char)] += 1\n",
    "    return letter_counts\n",
    "\n",
    "print(frequencies('The quick red fox got bored and went home.'))\n",
    "print(frequencies('apple'))"
   ]
  },
  {
   "cell_type": "markdown",
   "id": "ea2f6022",
   "metadata": {},
   "source": []
  },
  {
   "cell_type": "markdown",
   "id": "e2483376",
   "metadata": {},
   "source": [
    "# Reference"
   ]
  },
  {
   "cell_type": "markdown",
   "id": "cefb8a0e",
   "metadata": {},
   "source": [
    "1. Documentation for Python, C# as well as Jupyter Notebook. <br>\n",
    "https://docs.python.org/3/ <br>\n",
    "https://learn.microsoft.com/en-us/dotnet/csharp/ <br>\n",
    "https://jupyter-notebook.readthedocs.io/en/stable/\n",
    "\n",
    "2. For some question to get some errors resolved, to get better clarity and to get a different perspective the following website was used. <br>\n",
    "https://stackoverflow.com/"
   ]
  },
  {
   "cell_type": "code",
   "execution_count": null,
   "id": "59dee1d8",
   "metadata": {},
   "outputs": [],
   "source": []
  }
 ],
 "metadata": {
  "kernelspec": {
   "display_name": "Python 3 (ipykernel)",
   "language": "python",
   "name": "python3"
  },
  "language_info": {
   "codemirror_mode": {
    "name": "ipython",
    "version": 3
   },
   "file_extension": ".py",
   "mimetype": "text/x-python",
   "name": "python",
   "nbconvert_exporter": "python",
   "pygments_lexer": "ipython3",
   "version": "3.9.13"
  }
 },
 "nbformat": 4,
 "nbformat_minor": 5
}
