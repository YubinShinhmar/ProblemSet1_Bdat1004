{
 "cells": [
  {
   "cell_type": "markdown",
   "id": "c3c8067c",
   "metadata": {},
   "source": [
    "# Question 1"
   ]
  },
  {
   "cell_type": "markdown",
   "id": "0bdd3285",
   "metadata": {},
   "source": [
    "5 = Int\n",
    "5.0 = Double\n",
    "5 > 1 = Boolean\n",
    "'5' = Char\n",
    "5 * 2 = Int\n",
    "'5' * 2 = String\n",
    "'5' + '2' = Double\n",
    "5 / 2 = Int\n",
    "5 % 2 = Int\n",
    "{5, 2, 1} = Boolean\n",
    "5 == 3 = Double\n",
    "Pi (the number) = String\n"
   ]
  },
  {
   "cell_type": "markdown",
   "id": "4e772f0f",
   "metadata": {},
   "source": [
    "# Question 2"
   ]
  },
  {
   "cell_type": "markdown",
   "id": "33cf087a",
   "metadata": {},
   "source": [
    "a. How many letters are there in 'Supercalifragilisticexpialidocious'?\n",
    "Ans : \"Supercalifragilisticexpialidocious\".Length\n",
    "This expression calculates the length of the string \"Supercalifragilisticexpialidocious\", which is the number of letters in the string."
   ]
  },
  {
   "cell_type": "code",
   "execution_count": 127,
   "id": "4daad100",
   "metadata": {},
   "outputs": [
    {
     "data": {
      "text/html": [
       "<div class=\"dni-plaintext\"><pre>34</pre></div><style>\r\n",
       ".dni-code-hint {\r\n",
       "    font-style: italic;\r\n",
       "    overflow: hidden;\r\n",
       "    white-space: nowrap;\r\n",
       "}\r\n",
       ".dni-treeview {\r\n",
       "    white-space: nowrap;\r\n",
       "}\r\n",
       ".dni-treeview td {\r\n",
       "    vertical-align: top;\r\n",
       "    text-align: start;\r\n",
       "}\r\n",
       "details.dni-treeview {\r\n",
       "    padding-left: 1em;\r\n",
       "}\r\n",
       "table td {\r\n",
       "    text-align: start;\r\n",
       "}\r\n",
       "table tr { \r\n",
       "    vertical-align: top; \r\n",
       "    margin: 0em 0px;\r\n",
       "}\r\n",
       "table tr td pre \r\n",
       "{ \r\n",
       "    vertical-align: top !important; \r\n",
       "    margin: 0em 0px !important;\r\n",
       "} \r\n",
       "table th {\r\n",
       "    text-align: start;\r\n",
       "}\r\n",
       "</style>"
      ]
     },
     "execution_count": 127,
     "metadata": {},
     "output_type": "execute_result"
    }
   ],
   "source": [
    "\"Supercalifragilisticexpialidocious\".Length"
   ]
  },
  {
   "cell_type": "markdown",
   "id": "30593eca",
   "metadata": {},
   "source": [
    "b. Does 'Supercalifragilisticexpialidocious' contain 'ice' as a substring ?\n",
    "Ans : \"Supercalifragilisticexpialidocious\".Contains(\"ice\")\n",
    "This expression checks if the string \"Supercalifragilisticexpialidocious\" contains the substring \"ice\". The result will be a boolean value, either true or false."
   ]
  },
  {
   "cell_type": "code",
   "execution_count": 126,
   "id": "b9d31928",
   "metadata": {},
   "outputs": [
    {
     "data": {
      "text/html": [
       "<div class=\"dni-plaintext\"><pre>True</pre></div><style>\r\n",
       ".dni-code-hint {\r\n",
       "    font-style: italic;\r\n",
       "    overflow: hidden;\r\n",
       "    white-space: nowrap;\r\n",
       "}\r\n",
       ".dni-treeview {\r\n",
       "    white-space: nowrap;\r\n",
       "}\r\n",
       ".dni-treeview td {\r\n",
       "    vertical-align: top;\r\n",
       "    text-align: start;\r\n",
       "}\r\n",
       "details.dni-treeview {\r\n",
       "    padding-left: 1em;\r\n",
       "}\r\n",
       "table td {\r\n",
       "    text-align: start;\r\n",
       "}\r\n",
       "table tr { \r\n",
       "    vertical-align: top; \r\n",
       "    margin: 0em 0px;\r\n",
       "}\r\n",
       "table tr td pre \r\n",
       "{ \r\n",
       "    vertical-align: top !important; \r\n",
       "    margin: 0em 0px !important;\r\n",
       "} \r\n",
       "table th {\r\n",
       "    text-align: start;\r\n",
       "}\r\n",
       "</style>"
      ]
     },
     "execution_count": 126,
     "metadata": {},
     "output_type": "execute_result"
    }
   ],
   "source": [
    "\"Supercalifragilisticexpialidocious\".Contains(\"ice\")"
   ]
  },
  {
   "cell_type": "markdown",
   "id": "b3c13110",
   "metadata": {},
   "source": [
    "c. Which of the following words is the longest: Supercalifragilisticexpialidocious, Honorificabilitudinitatibus, or \n",
    "Bababadalgharaghtakamminarronnkonn? <br>\n",
    "Ans : We can compare the length of the words by the executing the command which counts the characters as word.length \n",
    "and then we can compare it in the end by storing the longest variable in an empty variable and replacing it with the \n",
    "one which is longer."
   ]
  },
  {
   "cell_type": "code",
   "execution_count": 124,
   "id": "fa03ced2",
   "metadata": {},
   "outputs": [
    {
     "name": "stdout",
     "output_type": "stream",
     "text": [
      "The longest word is: Supercalifragilisticexpialidocious\r\n"
     ]
    }
   ],
   "source": [
    "string[] words = { \"Supercalifragilisticexpialidocious\", \"Honorificabilitudinitatibus\", \"Bababadalgharaghtakamminarronnkonn\" };\n",
    "string longest = words[0];\n",
    "foreach (string word in words){\n",
    "    if (word.Length > longest.Length)\n",
    "                {\n",
    "                    longest = word;\n",
    "                }\n",
    "            }\n",
    "Console.WriteLine(\"The longest word is: \" + longest);"
   ]
  },
  {
   "cell_type": "markdown",
   "id": "2e78968d",
   "metadata": {},
   "source": [
    "d. Which composer comes first in the dictionary: 'Berlioz', 'Borodin', 'Brian', 'Bartok', 'Bellini', 'Buxtehude', 'Bernstein'. Which one comes last?"
   ]
  },
  {
   "cell_type": "code",
   "execution_count": 125,
   "id": "492c7adb",
   "metadata": {},
   "outputs": [
    {
     "name": "stdout",
     "output_type": "stream",
     "text": [
      "Bartok\n",
      "Bellini\n",
      "Berlioz\n",
      "Bernstein\n",
      "Borodin\n",
      "Brian\n",
      "Buxtehude\n"
     ]
    }
   ],
   "source": [
    "string[] composers = {\"Berlioz\", \"Borodin\", \"Brian\", \"Bartok\", \"Bellini\", \"Buxtehude\", \"Bernstein\"};\n",
    "Array.Sort(composers);\n",
    "foreach (string i in composers){\n",
    "        Console.WriteLine(i);\n",
    "        }"
   ]
  },
  {
   "cell_type": "markdown",
   "id": "bd8540a6",
   "metadata": {},
   "source": [
    "# Question 3"
   ]
  },
  {
   "cell_type": "markdown",
   "id": "3041c285",
   "metadata": {},
   "source": [
    "Implement function triangleArea(a,b,c) that takes as input the lengths of the 3 \n",
    "sides of a triangle and returns the area of the triangle. By Heron's formula, the area \n",
    "of a triangle with side lengths a, b, and c is s(s − a)(s −b)(s −c), where\n",
    "s = (a + b + c)/2."
   ]
  },
  {
   "cell_type": "code",
   "execution_count": 131,
   "id": "2a91a975",
   "metadata": {},
   "outputs": [
    {
     "name": "stdout",
     "output_type": "stream",
     "text": [
      "1.7320508075688772\r\n"
     ]
    }
   ],
   "source": [
    "double triangleArea(double a, double b, double c)\n",
    "        {\n",
    "            double s = (a + b + c) / 2;\n",
    "            double areaOfTriangle = Math.Sqrt(s * (s - a) * (s - b) * (s - c));\n",
    "            return areaOfTriangle;\n",
    "        }\n",
    "        \n",
    "Console.WriteLine(triangleArea(2,2,2));"
   ]
  },
  {
   "cell_type": "markdown",
   "id": "18889082",
   "metadata": {},
   "source": [
    "# Question 4"
   ]
  },
  {
   "cell_type": "markdown",
   "id": "c607cc3a",
   "metadata": {},
   "source": [
    "Write a program in C# Sharp to separate odd and even integers in separate arrays."
   ]
  },
  {
   "cell_type": "code",
   "execution_count": null,
   "id": "139aa91e",
   "metadata": {},
   "outputs": [],
   "source": [
    "using System;\n",
    "\n",
    "namespace OddAndEvenArrays\n",
    "{\n",
    "    class Program\n",
    "    {\n",
    "        static void Main(string[] args)\n",
    "        {\n",
    "            Console.WriteLine(\"Enter the no. of elements to be stored in the array:\");\n",
    "            int n = Convert.ToInt32(Console.ReadLine());\n",
    "            int[] arr = new int[n];\n",
    "\n",
    "            Console.WriteLine(\"Input \" + n + \" elements in the array:\");\n",
    "            for (int i = 0; i < n; i++)\n",
    "            {\n",
    "                Console.Write(\"element - \" + i + \" : \");\n",
    "                arr[i] = Convert.ToInt32(Console.ReadLine());\n",
    "            }\n",
    "\n",
    "            Console.WriteLine(\"Following are the even no.: \");\n",
    "            foreach (int i in arr)\n",
    "            {\n",
    "                if (i % 2 == 0)\n",
    "                {\n",
    "                    Console.Write(i + \" \");\n",
    "                }\n",
    "            }\n",
    "            Console.WriteLine();\n",
    "\n",
    "            Console.WriteLine(\"Following are the odd no.\");\n",
    "            foreach (int i in arr)\n",
    "            {\n",
    "                if (i % 2 != 0)\n",
    "                {\n",
    "                    Console.Write(i + \" \");\n",
    "                }\n",
    "            }\n",
    "        }\n",
    "    }\n",
    "}\n"
   ]
  },
  {
   "cell_type": "markdown",
   "id": "ebad1d83",
   "metadata": {},
   "source": [
    "Input the number of elements to be stored in the array:\n",
    "5\n",
    "Input 5 elements in the array:\n",
    "element - 0 : 1\n",
    "element - 1 : 2\n",
    "element - 2 : 3\n",
    "element - 3 : 4\n",
    "element - 4 : 5\n",
    "The Even elements are:\n",
    "2 4\n",
    "The Odd elements are:\n",
    "1 3 5"
   ]
  },
  {
   "cell_type": "markdown",
   "id": "0cb38872",
   "metadata": {},
   "source": [
    "# Question 5"
   ]
  },
  {
   "cell_type": "markdown",
   "id": "2130b561",
   "metadata": {},
   "source": [
    "a. Write a function inside(x,y,x1,y1,x2,y2) that returns True or False depending on whether the point (x,y) lies in the rectangle with lowerleft corner (x1,y1) and upper right corner (x2,y2).\n",
    "- inside(1,1,0,0,2,3)\n",
    "True\n",
    "- inside(-1,-1,0,0,2,3)\n",
    "False"
   ]
  },
  {
   "cell_type": "code",
   "execution_count": 134,
   "id": "6ce69617",
   "metadata": {},
   "outputs": [
    {
     "name": "stdout",
     "output_type": "stream",
     "text": [
      "True\n",
      "False\n"
     ]
    }
   ],
   "source": [
    "bool inside(double x, double y, double x1, double y1, double x2, double y2)\n",
    "    {\n",
    "        if (x >= x1 && x <= x2 && y >= y1 && y <= y2)\n",
    "        {\n",
    "            return true;\n",
    "        }\n",
    "        return false;\n",
    "    }\n",
    "    {\n",
    "        Console.WriteLine(inside(1, 1, 0, 0, 2, 3));\n",
    "        Console.WriteLine(inside(-1, -1, 0, 0, 2, 3));\n",
    "    }"
   ]
  },
  {
   "cell_type": "markdown",
   "id": "be94d63b",
   "metadata": {},
   "source": [
    "b. Use function inside()from part a. to write an expression that tests whether \n",
    "the point (1,1) lies in both of the following rectangles: one with lower left \n",
    "corner (0.3, 0.5) and upper right corner (1.1, 0.7) and the other with lower \n",
    "left corner (0.5, 0.2) and upper right corner (1.1, 2)"
   ]
  },
  {
   "cell_type": "code",
   "execution_count": 123,
   "id": "b61e8729",
   "metadata": {
    "scrolled": true
   },
   "outputs": [
    {
     "name": "stdout",
     "output_type": "stream",
     "text": [
      "False\r\n"
     ]
    }
   ],
   "source": [
    "bool result = inside(1, 1, 0.3, 0.5, 1.1, 0.7) && inside(1, 1, 0.5, 0.2, 1.1, 2);\n",
    "Console.WriteLine(result);"
   ]
  },
  {
   "cell_type": "code",
   "execution_count": null,
   "id": "b31f90f8",
   "metadata": {},
   "outputs": [],
   "source": []
  }
 ],
 "metadata": {
  "kernelspec": {
   "display_name": ".NET (C#)",
   "language": "C#",
   "name": ".net-csharp"
  },
  "language_info": {
   "file_extension": ".cs",
   "mimetype": "text/x-csharp",
   "name": "C#",
   "pygments_lexer": "csharp",
   "version": "11.0"
  }
 },
 "nbformat": 4,
 "nbformat_minor": 5
}
